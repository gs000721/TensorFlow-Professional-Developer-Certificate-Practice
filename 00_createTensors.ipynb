{
  "nbformat": 4,
  "nbformat_minor": 0,
  "metadata": {
    "colab": {
      "provenance": []
    },
    "kernelspec": {
      "name": "python3",
      "display_name": "Python 3"
    },
    "language_info": {
      "name": "python"
    }
  },
  "cells": [
    {
      "cell_type": "markdown",
      "source": [
        "# Ways to create tensors \n",
        "\n",
        "\n",
        "\n",
        "1.   tf.constant()\n",
        "2.   tf.Variable()\n",
        "3.   tf.random.Generator.from_seed()\n",
        "\n",
        "And Shuffle a Tensor\n",
        "\n",
        "\n"
      ],
      "metadata": {
        "id": "6eHlK_u3yEgL"
      }
    },
    {
      "cell_type": "code",
      "source": [
        "import tensorflow as tf\n",
        "\n",
        "print(tf.__version__)"
      ],
      "metadata": {
        "colab": {
          "base_uri": "https://localhost:8080/"
        },
        "id": "TpAj0cciyl78",
        "outputId": "c2f8b0af-ca0d-4199-e3d2-efbbbbc6c55f"
      },
      "execution_count": 22,
      "outputs": [
        {
          "output_type": "stream",
          "name": "stdout",
          "text": [
            "2.12.0\n"
          ]
        }
      ]
    },
    {
      "cell_type": "markdown",
      "source": [
        "### 1. tf.constant()"
      ],
      "metadata": {
        "id": "39_aIwnv0o7b"
      }
    },
    {
      "cell_type": "code",
      "source": [
        "# creating a scalar\n",
        "\n",
        "scalar = tf.constant(9)\n",
        "scalar\n",
        "#scalar.assign(8)"
      ],
      "metadata": {
        "colab": {
          "base_uri": "https://localhost:8080/"
        },
        "id": "OiYtkNKEyDth",
        "outputId": "f83cab0e-1b40-46f9-925c-437455c5cfd3"
      },
      "execution_count": 37,
      "outputs": [
        {
          "output_type": "execute_result",
          "data": {
            "text/plain": [
              "<tf.Tensor: shape=(), dtype=int32, numpy=9>"
            ]
          },
          "metadata": {},
          "execution_count": 37
        }
      ]
    },
    {
      "cell_type": "code",
      "source": [
        "#check dimension of scalar, it should be 0, cause scalar has 0 dimensions.\n",
        "# for the same reason, Scalars are called Rank 0 Tensors\n",
        "\n",
        "scalar.ndim"
      ],
      "metadata": {
        "colab": {
          "base_uri": "https://localhost:8080/"
        },
        "id": "NTrhFwVryswK",
        "outputId": "1f94c308-9541-4838-f9a0-49b6f6821efb"
      },
      "execution_count": 24,
      "outputs": [
        {
          "output_type": "execute_result",
          "data": {
            "text/plain": [
              "0"
            ]
          },
          "metadata": {},
          "execution_count": 24
        }
      ]
    },
    {
      "cell_type": "code",
      "source": [
        "# creating a vector\n",
        "# vectors are Rank 1 Tensors\n",
        "\n",
        "vector = tf.constant([28,15,9])\n",
        "vector"
      ],
      "metadata": {
        "colab": {
          "base_uri": "https://localhost:8080/"
        },
        "id": "a-GHgXExy-MG",
        "outputId": "325547dd-bda7-4cc1-915a-4703b8474165"
      },
      "execution_count": 27,
      "outputs": [
        {
          "output_type": "execute_result",
          "data": {
            "text/plain": [
              "<tf.Tensor: shape=(3,), dtype=int32, numpy=array([28, 15,  9], dtype=int32)>"
            ]
          },
          "metadata": {},
          "execution_count": 27
        }
      ]
    },
    {
      "cell_type": "code",
      "source": [
        "vector.ndim"
      ],
      "metadata": {
        "colab": {
          "base_uri": "https://localhost:8080/"
        },
        "id": "ChOELxFQzO5_",
        "outputId": "85110325-b34d-4fc3-d21c-7c2895fffc88"
      },
      "execution_count": 28,
      "outputs": [
        {
          "output_type": "execute_result",
          "data": {
            "text/plain": [
              "1"
            ]
          },
          "metadata": {},
          "execution_count": 28
        }
      ]
    },
    {
      "cell_type": "code",
      "source": [
        "# creating a Matrix\n",
        "\n",
        "matrix = tf.constant([[16,28,27],\n",
        "                      [13,8,11],\n",
        "                      [8,16,28]],dtype = float)\n",
        "matrix"
      ],
      "metadata": {
        "colab": {
          "base_uri": "https://localhost:8080/"
        },
        "id": "dGROrciBzSHE",
        "outputId": "7c18f867-4b56-45f2-a474-1e928a98f7b5"
      },
      "execution_count": 30,
      "outputs": [
        {
          "output_type": "execute_result",
          "data": {
            "text/plain": [
              "<tf.Tensor: shape=(3, 3), dtype=float32, numpy=\n",
              "array([[16., 28., 27.],\n",
              "       [13.,  8., 11.],\n",
              "       [ 8., 16., 28.]], dtype=float32)>"
            ]
          },
          "metadata": {},
          "execution_count": 30
        }
      ]
    },
    {
      "cell_type": "code",
      "source": [
        "matrix.ndim"
      ],
      "metadata": {
        "colab": {
          "base_uri": "https://localhost:8080/"
        },
        "id": "t9pk85Jgzwye",
        "outputId": "07571a52-e7b8-4dfb-ca5d-9a01d64865a8"
      },
      "execution_count": 31,
      "outputs": [
        {
          "output_type": "execute_result",
          "data": {
            "text/plain": [
              "2"
            ]
          },
          "metadata": {},
          "execution_count": 31
        }
      ]
    },
    {
      "cell_type": "code",
      "source": [
        "# creating a 3D Tensor\n",
        "\n",
        "\n",
        "tensor_3d = tf.constant([[[1,2,3],\n",
        "                          [4,5,6]],\n",
        "                         [[2,3,4],\n",
        "                          [5,6,7]],\n",
        "                         [[2,3,6],\n",
        "                          [8,9,7]] ])\n",
        "tensor_3d"
      ],
      "metadata": {
        "colab": {
          "base_uri": "https://localhost:8080/"
        },
        "id": "d5Jphp8lz5DO",
        "outputId": "b35c6aa4-54a0-4973-ac0a-1284bd178678"
      },
      "execution_count": 32,
      "outputs": [
        {
          "output_type": "execute_result",
          "data": {
            "text/plain": [
              "<tf.Tensor: shape=(3, 2, 3), dtype=int32, numpy=\n",
              "array([[[1, 2, 3],\n",
              "        [4, 5, 6]],\n",
              "\n",
              "       [[2, 3, 4],\n",
              "        [5, 6, 7]],\n",
              "\n",
              "       [[2, 3, 6],\n",
              "        [8, 9, 7]]], dtype=int32)>"
            ]
          },
          "metadata": {},
          "execution_count": 32
        }
      ]
    },
    {
      "cell_type": "code",
      "source": [
        "tensor_3d.ndim"
      ],
      "metadata": {
        "colab": {
          "base_uri": "https://localhost:8080/"
        },
        "id": "0TaRkh0a0eob",
        "outputId": "18e200d1-3196-49f3-ae27-72e35c475512"
      },
      "execution_count": 33,
      "outputs": [
        {
          "output_type": "execute_result",
          "data": {
            "text/plain": [
              "3"
            ]
          },
          "metadata": {},
          "execution_count": 33
        }
      ]
    },
    {
      "cell_type": "markdown",
      "source": [
        "### 2. tf.Variable()\n",
        "\n",
        "When created a tensor using tf.constant(), we CANNOT modify the elements inside.\n",
        "And so if we want to create a mutable tensor, then we can go for tf.Variable()"
      ],
      "metadata": {
        "id": "A3mUl-so0ztp"
      }
    },
    {
      "cell_type": "code",
      "source": [
        "scalar1 = tf.Variable(9)\n",
        "scalar1.assign(13)"
      ],
      "metadata": {
        "colab": {
          "base_uri": "https://localhost:8080/"
        },
        "id": "2kWZ78Jw0lzY",
        "outputId": "637bc9aa-ef45-432b-9bc7-554e5ad31b12"
      },
      "execution_count": 44,
      "outputs": [
        {
          "output_type": "execute_result",
          "data": {
            "text/plain": [
              "<tf.Variable 'UnreadVariable' shape=() dtype=int32, numpy=13>"
            ]
          },
          "metadata": {},
          "execution_count": 44
        }
      ]
    },
    {
      "cell_type": "code",
      "source": [
        "scalar, scalar1"
      ],
      "metadata": {
        "colab": {
          "base_uri": "https://localhost:8080/"
        },
        "id": "e5tcg_1Q0uLt",
        "outputId": "cf1e22af-8911-464e-db93-289b94cab0da"
      },
      "execution_count": 45,
      "outputs": [
        {
          "output_type": "execute_result",
          "data": {
            "text/plain": [
              "(<tf.Tensor: shape=(), dtype=int32, numpy=9>,\n",
              " <tf.Variable 'Variable:0' shape=() dtype=int32, numpy=13>)"
            ]
          },
          "metadata": {},
          "execution_count": 45
        }
      ]
    },
    {
      "cell_type": "code",
      "source": [
        "vector1 = tf.Variable([9,15,28])\n",
        "vector1"
      ],
      "metadata": {
        "colab": {
          "base_uri": "https://localhost:8080/"
        },
        "id": "qRLPgSq93LSR",
        "outputId": "6d595bb4-6a32-4618-a3df-271b0f739bab"
      },
      "execution_count": 46,
      "outputs": [
        {
          "output_type": "execute_result",
          "data": {
            "text/plain": [
              "<tf.Variable 'Variable:0' shape=(3,) dtype=int32, numpy=array([ 9, 15, 28], dtype=int32)>"
            ]
          },
          "metadata": {},
          "execution_count": 46
        }
      ]
    },
    {
      "cell_type": "code",
      "source": [
        "# to change elements inside\n",
        "\n",
        "vector1[2].assign(16)\n",
        "vector1"
      ],
      "metadata": {
        "colab": {
          "base_uri": "https://localhost:8080/"
        },
        "id": "yWHmIDFL3eNe",
        "outputId": "8dee939c-cc61-48bd-ebf6-280c70f9fe41"
      },
      "execution_count": 47,
      "outputs": [
        {
          "output_type": "execute_result",
          "data": {
            "text/plain": [
              "<tf.Variable 'Variable:0' shape=(3,) dtype=int32, numpy=array([ 9, 15, 16], dtype=int32)>"
            ]
          },
          "metadata": {},
          "execution_count": 47
        }
      ]
    },
    {
      "cell_type": "markdown",
      "source": [
        "### 3. tf.random.Generator.from_seed()"
      ],
      "metadata": {
        "id": "XyMeQ0_92-C5"
      }
    },
    {
      "cell_type": "code",
      "source": [
        "random_matrix = tf.random.Generator.from_seed(45)\n",
        "random_matrix = random_matrix.normal(shape=(4,5))\n",
        "random_matrix"
      ],
      "metadata": {
        "colab": {
          "base_uri": "https://localhost:8080/"
        },
        "id": "V7fzaDsX2O5F",
        "outputId": "b59f2b15-05f1-49c6-ccc1-52fe4f1998e2"
      },
      "execution_count": 48,
      "outputs": [
        {
          "output_type": "execute_result",
          "data": {
            "text/plain": [
              "<tf.Tensor: shape=(4, 5), dtype=float32, numpy=\n",
              "array([[-0.3522796 ,  0.40621263, -1.0523509 ,  1.2054597 ,  1.6874489 ],\n",
              "       [-0.4462975 , -2.3410842 ,  0.99009085, -0.0876323 , -0.635568  ],\n",
              "       [-0.6161736 , -1.9441465 , -0.48293006, -0.52447474, -1.0345329 ],\n",
              "       [ 1.3066901 , -1.5184573 , -0.4585211 ,  0.5714663 , -1.5331722 ]],\n",
              "      dtype=float32)>"
            ]
          },
          "metadata": {},
          "execution_count": 48
        }
      ]
    },
    {
      "cell_type": "markdown",
      "source": [
        "### 4. Shuffle a Tensor"
      ],
      "metadata": {
        "id": "2tVfI0kb4Dqs"
      }
    },
    {
      "cell_type": "code",
      "source": [
        "shuffled_matrix = tf.random.shuffle(random_matrix)\n",
        "shuffled_matrix"
      ],
      "metadata": {
        "colab": {
          "base_uri": "https://localhost:8080/"
        },
        "id": "fB3N4C_B4B-e",
        "outputId": "3b80ef93-b119-4f34-c203-0339ee06d89d"
      },
      "execution_count": 50,
      "outputs": [
        {
          "output_type": "execute_result",
          "data": {
            "text/plain": [
              "<tf.Tensor: shape=(4, 5), dtype=float32, numpy=\n",
              "array([[-0.4462975 , -2.3410842 ,  0.99009085, -0.0876323 , -0.635568  ],\n",
              "       [ 1.3066901 , -1.5184573 , -0.4585211 ,  0.5714663 , -1.5331722 ],\n",
              "       [-0.3522796 ,  0.40621263, -1.0523509 ,  1.2054597 ,  1.6874489 ],\n",
              "       [-0.6161736 , -1.9441465 , -0.48293006, -0.52447474, -1.0345329 ]],\n",
              "      dtype=float32)>"
            ]
          },
          "metadata": {},
          "execution_count": 50
        }
      ]
    },
    {
      "cell_type": "code",
      "source": [],
      "metadata": {
        "id": "8yus09xZ39PD"
      },
      "execution_count": null,
      "outputs": []
    }
  ]
}