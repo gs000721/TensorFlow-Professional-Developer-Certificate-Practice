{
  "nbformat": 4,
  "nbformat_minor": 0,
  "metadata": {
    "colab": {
      "provenance": []
    },
    "kernelspec": {
      "name": "python3",
      "display_name": "Python 3"
    },
    "language_info": {
      "name": "python"
    }
  },
  "cells": [
    {
      "cell_type": "markdown",
      "source": [
        "## Changing the default data type of a Tensor(32 to 16 bit precision)\n",
        "\n",
        "tf.cast(tensor, dtype = tf.float32/int32/float16/int16)"
      ],
      "metadata": {
        "id": "RelIgVMClWtl"
      }
    },
    {
      "cell_type": "code",
      "source": [
        "# Create a tensor with default data type(int)\n",
        "\n",
        "A = tf.constant([1,7,4])\n",
        "A\n"
      ],
      "metadata": {
        "colab": {
          "base_uri": "https://localhost:8080/"
        },
        "id": "TCS52S-qlbTK",
        "outputId": "ac3ea062-2e51-4df1-98af-f5447287784c"
      },
      "execution_count": 107,
      "outputs": [
        {
          "output_type": "execute_result",
          "data": {
            "text/plain": [
              "<tf.Tensor: shape=(3,), dtype=int32, numpy=array([1, 7, 4], dtype=int32)>"
            ]
          },
          "metadata": {},
          "execution_count": 107
        }
      ]
    },
    {
      "cell_type": "code",
      "source": [
        "# Create a tensor with default data type(int)\n",
        "\n",
        "B = tf.constant([1.,7.,4.])\n",
        "B\n"
      ],
      "metadata": {
        "colab": {
          "base_uri": "https://localhost:8080/"
        },
        "id": "Qu5BMy6gmynV",
        "outputId": "40df2e8d-b9d2-4aac-c857-e37e782340ce"
      },
      "execution_count": 108,
      "outputs": [
        {
          "output_type": "execute_result",
          "data": {
            "text/plain": [
              "<tf.Tensor: shape=(3,), dtype=float32, numpy=array([1., 7., 4.], dtype=float32)>"
            ]
          },
          "metadata": {},
          "execution_count": 108
        }
      ]
    },
    {
      "cell_type": "code",
      "source": [
        "# Change from int32 to int16 (reduced precision)\n",
        "\n",
        "C = tf.cast(A, dtype = tf.int16)\n",
        "C"
      ],
      "metadata": {
        "colab": {
          "base_uri": "https://localhost:8080/"
        },
        "id": "c0lHubUknKEs",
        "outputId": "8259b6cf-cef6-4286-9a40-4c21015aeb2f"
      },
      "execution_count": 109,
      "outputs": [
        {
          "output_type": "execute_result",
          "data": {
            "text/plain": [
              "<tf.Tensor: shape=(3,), dtype=int16, numpy=array([1, 7, 4], dtype=int16)>"
            ]
          },
          "metadata": {},
          "execution_count": 109
        }
      ]
    },
    {
      "cell_type": "code",
      "source": [
        "# Change from float32 to float16 (reduced precision)\n",
        "\n",
        "D = tf.cast(B, dtype = tf.float16)\n",
        "D"
      ],
      "metadata": {
        "colab": {
          "base_uri": "https://localhost:8080/"
        },
        "id": "4pEV3livnpH4",
        "outputId": "c537d0a0-5a5b-471c-9673-15f0ec9bee3a"
      },
      "execution_count": 110,
      "outputs": [
        {
          "output_type": "execute_result",
          "data": {
            "text/plain": [
              "<tf.Tensor: shape=(3,), dtype=float16, numpy=array([1., 7., 4.], dtype=float16)>"
            ]
          },
          "metadata": {},
          "execution_count": 110
        }
      ]
    },
    {
      "cell_type": "code",
      "source": [
        "# Change from int32 to float32\n",
        "\n",
        "E = tf.cast(A, dtype = tf.float32)\n",
        "E"
      ],
      "metadata": {
        "colab": {
          "base_uri": "https://localhost:8080/"
        },
        "id": "8vmMRMpIn2I4",
        "outputId": "4ff1e28e-2ebb-4973-e151-b23e3d59d25c"
      },
      "execution_count": 111,
      "outputs": [
        {
          "output_type": "execute_result",
          "data": {
            "text/plain": [
              "<tf.Tensor: shape=(3,), dtype=float32, numpy=array([1., 7., 4.], dtype=float32)>"
            ]
          },
          "metadata": {},
          "execution_count": 111
        }
      ]
    },
    {
      "cell_type": "code",
      "source": [],
      "metadata": {
        "id": "G1BaaiE6oi6T"
      },
      "execution_count": null,
      "outputs": []
    }
  ]
}