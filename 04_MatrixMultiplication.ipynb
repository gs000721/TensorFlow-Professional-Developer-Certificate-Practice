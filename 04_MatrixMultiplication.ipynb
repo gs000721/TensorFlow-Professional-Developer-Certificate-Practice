{
  "nbformat": 4,
  "nbformat_minor": 0,
  "metadata": {
    "colab": {
      "provenance": []
    },
    "kernelspec": {
      "name": "python3",
      "display_name": "Python 3"
    },
    "language_info": {
      "name": "python"
    }
  },
  "cells": [
    {
      "cell_type": "markdown",
      "source": [
        "### Rules of Matrix Multiplication\n",
        "\n",
        "\n",
        "1.   The inner dimensions of the two matrices have to be the same.\n",
        "2.   The resulting matrix of the multiplication is having the outer dimensions of those two matrices as its shape.\n",
        "\n"
      ],
      "metadata": {
        "id": "kvJybuO_afwq"
      }
    },
    {
      "cell_type": "code",
      "source": [
        "import tensorflow as tf"
      ],
      "metadata": {
        "id": "T60aUv18bhLN"
      },
      "execution_count": 63,
      "outputs": []
    },
    {
      "cell_type": "markdown",
      "source": [
        "### 1. Matrix Multiplication by reshaping\n",
        "\n",
        "tf.reshape(tensor, shape=(x,y)"
      ],
      "metadata": {
        "id": "fD7Wax_Af-qy"
      }
    },
    {
      "cell_type": "code",
      "source": [
        "# Try matrix multiplication with matmul()\n",
        "\n",
        "tensor_1 = tf.random.Generator.from_seed(12)\n",
        "tensor_1 = tensor_1.uniform(shape=(2,3),dtype = tf.int32,minval = 1, maxval = 10)\n",
        "tensor_1"
      ],
      "metadata": {
        "colab": {
          "base_uri": "https://localhost:8080/"
        },
        "id": "k0XhNCbDa7HN",
        "outputId": "42b8e2f4-5350-4b92-f98e-036143278607"
      },
      "execution_count": 69,
      "outputs": [
        {
          "output_type": "execute_result",
          "data": {
            "text/plain": [
              "<tf.Tensor: shape=(2, 3), dtype=int32, numpy=\n",
              "array([[8, 5, 4],\n",
              "       [8, 5, 4]], dtype=int32)>"
            ]
          },
          "metadata": {},
          "execution_count": 69
        }
      ]
    },
    {
      "cell_type": "code",
      "source": [
        "tensor_2 = tf.random.Generator.from_seed(15)\n",
        "tensor_2 = tensor_2.uniform(shape=(3,4),dtype = tf.int32,minval = 1, maxval = 10)\n",
        "tensor_2"
      ],
      "metadata": {
        "colab": {
          "base_uri": "https://localhost:8080/"
        },
        "id": "DaOW4UEQbVGF",
        "outputId": "43c99540-5f9d-4d9a-82c3-9143c5826dd6"
      },
      "execution_count": 70,
      "outputs": [
        {
          "output_type": "execute_result",
          "data": {
            "text/plain": [
              "<tf.Tensor: shape=(3, 4), dtype=int32, numpy=\n",
              "array([[9, 8, 2, 6],\n",
              "       [6, 5, 8, 5],\n",
              "       [6, 2, 7, 9]], dtype=int32)>"
            ]
          },
          "metadata": {},
          "execution_count": 70
        }
      ]
    },
    {
      "cell_type": "code",
      "source": [
        "matrix_mult = tf.matmul(tensor_1,tensor_2)\n",
        "matrix_mult"
      ],
      "metadata": {
        "colab": {
          "base_uri": "https://localhost:8080/"
        },
        "id": "qrysrvdZbaAn",
        "outputId": "ce49466b-2e79-4fa3-862b-458ee35cd3c4"
      },
      "execution_count": 72,
      "outputs": [
        {
          "output_type": "execute_result",
          "data": {
            "text/plain": [
              "<tf.Tensor: shape=(2, 4), dtype=int32, numpy=\n",
              "array([[126,  97,  84, 109],\n",
              "       [126,  97,  84, 109]], dtype=int32)>"
            ]
          },
          "metadata": {},
          "execution_count": 72
        }
      ]
    },
    {
      "cell_type": "code",
      "source": [
        "tensor_3 = tf.random.Generator.from_seed(12)\n",
        "tensor_3 = tensor_3.uniform(shape=(3,4),dtype = tf.int32,minval = 1, maxval = 10)\n",
        "tensor_3"
      ],
      "metadata": {
        "colab": {
          "base_uri": "https://localhost:8080/"
        },
        "id": "gYq9oJpGcAuX",
        "outputId": "78fdcdd4-3d4b-4a3d-8768-0fda1bb55375"
      },
      "execution_count": 73,
      "outputs": [
        {
          "output_type": "execute_result",
          "data": {
            "text/plain": [
              "<tf.Tensor: shape=(3, 4), dtype=int32, numpy=\n",
              "array([[8, 5, 4, 8],\n",
              "       [5, 4, 9, 9],\n",
              "       [6, 3, 8, 1]], dtype=int32)>"
            ]
          },
          "metadata": {},
          "execution_count": 73
        }
      ]
    },
    {
      "cell_type": "code",
      "source": [
        "tensor_4 = tf.random.Generator.from_seed(25)\n",
        "tensor_4 = tensor_4.uniform(shape=(3,4),dtype = tf.int32,minval = 1, maxval = 10)\n",
        "tensor_4"
      ],
      "metadata": {
        "colab": {
          "base_uri": "https://localhost:8080/"
        },
        "id": "Sx8UZsRGcvkI",
        "outputId": "b08ac550-f2ba-404c-8ed2-ce6127c6ba1d"
      },
      "execution_count": 76,
      "outputs": [
        {
          "output_type": "execute_result",
          "data": {
            "text/plain": [
              "<tf.Tensor: shape=(3, 4), dtype=int32, numpy=\n",
              "array([[9, 7, 8, 6],\n",
              "       [6, 3, 7, 8],\n",
              "       [2, 2, 8, 1]], dtype=int32)>"
            ]
          },
          "metadata": {},
          "execution_count": 76
        }
      ]
    },
    {
      "cell_type": "code",
      "source": [
        "#matrix_multiplication2 = tf.matmul(tensor_3,tensor_4)\n",
        "# Rule 1 isn't true here, inner dimensions aren't equal."
      ],
      "metadata": {
        "id": "pV9yGsYbcwYk"
      },
      "execution_count": 78,
      "outputs": []
    },
    {
      "cell_type": "code",
      "source": [
        "reshaped_tensor_4 = tf.reshape(tensor_4, shape=(4,3)) #reshaping tensor"
      ],
      "metadata": {
        "id": "FntSOhm_cwtY"
      },
      "execution_count": 89,
      "outputs": []
    },
    {
      "cell_type": "code",
      "source": [
        "tensor_3.shape,reshaped_tensor_4.shape # checking if inner dimensions of two tensors are same"
      ],
      "metadata": {
        "colab": {
          "base_uri": "https://localhost:8080/"
        },
        "id": "LqPrn9HnfXle",
        "outputId": "a11e796d-4a3b-4f0a-9e9b-757146d2068f"
      },
      "execution_count": 90,
      "outputs": [
        {
          "output_type": "execute_result",
          "data": {
            "text/plain": [
              "(TensorShape([3, 4]), TensorShape([4, 3]))"
            ]
          },
          "metadata": {},
          "execution_count": 90
        }
      ]
    },
    {
      "cell_type": "code",
      "source": [
        "matrix_multiplication2 = tf.matmul(tensor_3,reshaped_tensor_4)"
      ],
      "metadata": {
        "id": "UeFfMclFcwzi"
      },
      "execution_count": 87,
      "outputs": []
    },
    {
      "cell_type": "code",
      "source": [
        "matrix_multiplication2"
      ],
      "metadata": {
        "colab": {
          "base_uri": "https://localhost:8080/"
        },
        "id": "JoFcFEMvcw8n",
        "outputId": "327e991d-12d8-4321-9340-42ed40c41c71"
      },
      "execution_count": 88,
      "outputs": [
        {
          "output_type": "execute_result",
          "data": {
            "text/plain": [
              "<tf.Tensor: shape=(3, 3), dtype=int32, numpy=\n",
              "array([[146, 182,  95],\n",
              "       [150, 203,  79],\n",
              "       [130, 132,  74]], dtype=int32)>"
            ]
          },
          "metadata": {},
          "execution_count": 88
        }
      ]
    },
    {
      "cell_type": "markdown",
      "source": [
        "### 2. Matrix Multiplication by Transposing\n",
        "\n",
        "tf.transpose(tensor)\n"
      ],
      "metadata": {
        "id": "SJmcS8crgD7w"
      }
    },
    {
      "cell_type": "code",
      "source": [
        "tensor_5 = tf.random.Generator.from_seed(25)\n",
        "tensor_5 = tensor_5.uniform(shape=(3,4),dtype = tf.int32,minval = 1, maxval = 10)\n",
        "tensor_5"
      ],
      "metadata": {
        "colab": {
          "base_uri": "https://localhost:8080/"
        },
        "id": "WCjEaUTJfl4C",
        "outputId": "977f1c19-bd2d-463c-d75a-6b7fe004f5df"
      },
      "execution_count": 91,
      "outputs": [
        {
          "output_type": "execute_result",
          "data": {
            "text/plain": [
              "<tf.Tensor: shape=(3, 4), dtype=int32, numpy=\n",
              "array([[9, 7, 8, 6],\n",
              "       [6, 3, 7, 8],\n",
              "       [2, 2, 8, 1]], dtype=int32)>"
            ]
          },
          "metadata": {},
          "execution_count": 91
        }
      ]
    },
    {
      "cell_type": "code",
      "source": [
        "tensor_6 = tf.random.Generator.from_seed(28)\n",
        "tensor_6 = tensor_6.uniform(shape=(3,4),dtype = tf.int32,minval = 1, maxval = 10)\n",
        "tensor_6"
      ],
      "metadata": {
        "colab": {
          "base_uri": "https://localhost:8080/"
        },
        "id": "p8fP7A89gMuD",
        "outputId": "c2d86d49-e8eb-4f43-82fd-ea6024d1a5e5"
      },
      "execution_count": 92,
      "outputs": [
        {
          "output_type": "execute_result",
          "data": {
            "text/plain": [
              "<tf.Tensor: shape=(3, 4), dtype=int32, numpy=\n",
              "array([[4, 8, 5, 5],\n",
              "       [5, 6, 4, 7],\n",
              "       [7, 3, 8, 2]], dtype=int32)>"
            ]
          },
          "metadata": {},
          "execution_count": 92
        }
      ]
    },
    {
      "cell_type": "code",
      "source": [
        "# Inner Dimensions of tensor_5 and tensor_6 aren't equal\n",
        "\n",
        "tensor_5.shape, tensor_6.shape"
      ],
      "metadata": {
        "colab": {
          "base_uri": "https://localhost:8080/"
        },
        "id": "KHU31HDugRpe",
        "outputId": "b696eab4-3d0e-45f4-a382-a301f568006f"
      },
      "execution_count": 93,
      "outputs": [
        {
          "output_type": "execute_result",
          "data": {
            "text/plain": [
              "(TensorShape([3, 4]), TensorShape([3, 4]))"
            ]
          },
          "metadata": {},
          "execution_count": 93
        }
      ]
    },
    {
      "cell_type": "code",
      "source": [
        "# so, we can transpose tensor_6 into a 4x3 matrix there by making inner dimensions of two matrices match\n",
        "\n",
        "transposed_tensor_6 = tf.transpose(tensor_6)\n",
        "transposed_tensor_6"
      ],
      "metadata": {
        "colab": {
          "base_uri": "https://localhost:8080/"
        },
        "id": "IhoWu959gcQU",
        "outputId": "811408e4-33b1-484b-def8-7863d8111c6e"
      },
      "execution_count": 94,
      "outputs": [
        {
          "output_type": "execute_result",
          "data": {
            "text/plain": [
              "<tf.Tensor: shape=(4, 3), dtype=int32, numpy=\n",
              "array([[4, 5, 7],\n",
              "       [8, 6, 3],\n",
              "       [5, 4, 8],\n",
              "       [5, 7, 2]], dtype=int32)>"
            ]
          },
          "metadata": {},
          "execution_count": 94
        }
      ]
    },
    {
      "cell_type": "code",
      "source": [
        "# now check for matching inner dimensions of two tensors\n",
        "\n",
        "tensor_5.shape, transposed_tensor_6.shape"
      ],
      "metadata": {
        "colab": {
          "base_uri": "https://localhost:8080/"
        },
        "id": "xlIJDjwBgzTZ",
        "outputId": "46108f08-430e-4d73-d1b9-16ab8c9628fe"
      },
      "execution_count": 95,
      "outputs": [
        {
          "output_type": "execute_result",
          "data": {
            "text/plain": [
              "(TensorShape([3, 4]), TensorShape([4, 3]))"
            ]
          },
          "metadata": {},
          "execution_count": 95
        }
      ]
    },
    {
      "cell_type": "code",
      "source": [
        "# now we can proceed with Matrix Multiplication\n",
        "\n",
        "tensor_multiplication = tf.matmul(tensor_5,transposed_tensor_6)\n",
        "tensor_multiplication"
      ],
      "metadata": {
        "colab": {
          "base_uri": "https://localhost:8080/"
        },
        "id": "-ksLOrHkg9XR",
        "outputId": "e15cc65d-a37c-4004-d7c4-b64d0b0bc5f8"
      },
      "execution_count": 96,
      "outputs": [
        {
          "output_type": "execute_result",
          "data": {
            "text/plain": [
              "<tf.Tensor: shape=(3, 3), dtype=int32, numpy=\n",
              "array([[162, 161, 160],\n",
              "       [123, 132, 123],\n",
              "       [ 69,  61,  86]], dtype=int32)>"
            ]
          },
          "metadata": {},
          "execution_count": 96
        }
      ]
    },
    {
      "cell_type": "markdown",
      "source": [
        "### The Dot Product\n",
        "\n",
        "Matrix Multiplication is also referred to as the dot prouct\n",
        "\n",
        "You can perform matrix multiplication using:\n",
        "* tf.matmul()\n",
        "* tf.tensordot()\n",
        "* @"
      ],
      "metadata": {
        "id": "Dvto1dhfiCGd"
      }
    },
    {
      "cell_type": "code",
      "source": [
        "tensor_5, tensor_6"
      ],
      "metadata": {
        "colab": {
          "base_uri": "https://localhost:8080/"
        },
        "id": "edqJx-xVhPYU",
        "outputId": "8c819878-9e9f-458e-889f-f86d12abdcda"
      },
      "execution_count": 97,
      "outputs": [
        {
          "output_type": "execute_result",
          "data": {
            "text/plain": [
              "(<tf.Tensor: shape=(3, 4), dtype=int32, numpy=\n",
              " array([[9, 7, 8, 6],\n",
              "        [6, 3, 7, 8],\n",
              "        [2, 2, 8, 1]], dtype=int32)>,\n",
              " <tf.Tensor: shape=(3, 4), dtype=int32, numpy=\n",
              " array([[4, 8, 5, 5],\n",
              "        [5, 6, 4, 7],\n",
              "        [7, 3, 8, 2]], dtype=int32)>)"
            ]
          },
          "metadata": {},
          "execution_count": 97
        }
      ]
    },
    {
      "cell_type": "code",
      "source": [
        "tensor_5.shape, tensor_6.shape"
      ],
      "metadata": {
        "colab": {
          "base_uri": "https://localhost:8080/"
        },
        "id": "q_SxwyohjeqP",
        "outputId": "1b35cfc8-4694-4bc4-9bcf-eb7603e92944"
      },
      "execution_count": 99,
      "outputs": [
        {
          "output_type": "execute_result",
          "data": {
            "text/plain": [
              "(TensorShape([3, 4]), TensorShape([3, 4]))"
            ]
          },
          "metadata": {},
          "execution_count": 99
        }
      ]
    },
    {
      "cell_type": "code",
      "source": [
        "# perform matrix multiplication between 5 and 6(transposed)\n",
        "\n",
        "tf.matmul(tf.transpose(tensor_5),tensor_6)"
      ],
      "metadata": {
        "colab": {
          "base_uri": "https://localhost:8080/"
        },
        "id": "j4cA-QaGitKQ",
        "outputId": "0f102ab2-8758-4814-e399-a0767ea0deee"
      },
      "execution_count": 98,
      "outputs": [
        {
          "output_type": "execute_result",
          "data": {
            "text/plain": [
              "<tf.Tensor: shape=(4, 4), dtype=int32, numpy=\n",
              "array([[ 80, 114,  85,  91],\n",
              "       [ 57,  80,  63,  60],\n",
              "       [123, 130, 132, 105],\n",
              "       [ 71,  99,  70,  88]], dtype=int32)>"
            ]
          },
          "metadata": {},
          "execution_count": 98
        }
      ]
    },
    {
      "cell_type": "code",
      "source": [
        "# perform matrix multiplication between 5 and 6(reshaped)\n",
        "tf.matmul(tf.reshape(tensor_5, shape=(4,3)),tensor_6)"
      ],
      "metadata": {
        "colab": {
          "base_uri": "https://localhost:8080/"
        },
        "id": "ASVFTJSOjS_1",
        "outputId": "6624412d-0758-42a1-a3bb-c854cfb1e99c"
      },
      "execution_count": 101,
      "outputs": [
        {
          "output_type": "execute_result",
          "data": {
            "text/plain": [
              "<tf.Tensor: shape=(4, 4), dtype=int32, numpy=\n",
              "array([[127, 138, 137, 110],\n",
              "       [ 75,  93,  78,  78],\n",
              "       [ 82, 110,  83,  95],\n",
              "       [ 55,  67,  50,  68]], dtype=int32)>"
            ]
          },
          "metadata": {},
          "execution_count": 101
        }
      ]
    },
    {
      "cell_type": "code",
      "source": [],
      "metadata": {
        "id": "5Ys2Bh-XjkrS"
      },
      "execution_count": null,
      "outputs": []
    }
  ]
}