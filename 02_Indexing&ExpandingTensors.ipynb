{
  "nbformat": 4,
  "nbformat_minor": 0,
  "metadata": {
    "colab": {
      "provenance": []
    },
    "kernelspec": {
      "name": "python3",
      "display_name": "Python 3"
    },
    "language_info": {
      "name": "python"
    }
  },
  "cells": [
    {
      "cell_type": "markdown",
      "source": [
        "### Indexing Tensors"
      ],
      "metadata": {
        "id": "xOBRbG4lY-VS"
      }
    },
    {
      "cell_type": "code",
      "source": [
        "import tensorflow as tf"
      ],
      "metadata": {
        "id": "yB8gt-ePZMnM"
      },
      "execution_count": 1,
      "outputs": []
    },
    {
      "cell_type": "code",
      "source": [
        "tensor_3d = tf.random.Generator.from_seed(43)\n",
        "tensor_3d = tensor_3d.uniform(shape=(2,3,4),minval=0,maxval=20,dtype=tf.int32)\n",
        "tensor_3d"
      ],
      "metadata": {
        "colab": {
          "base_uri": "https://localhost:8080/"
        },
        "id": "Wst_HtdqY86t",
        "outputId": "cc1bdad5-9e4c-47e7-80d1-94719ed90e97"
      },
      "execution_count": 7,
      "outputs": [
        {
          "output_type": "execute_result",
          "data": {
            "text/plain": [
              "<tf.Tensor: shape=(2, 3, 4), dtype=int32, numpy=\n",
              "array([[[ 6,  1, 11,  7],\n",
              "        [ 2,  7, 11,  6],\n",
              "        [ 0, 13, 15,  2]],\n",
              "\n",
              "       [[ 8, 13,  6,  7],\n",
              "        [ 3,  9, 18,  9],\n",
              "        [14,  9,  6, 17]]], dtype=int32)>"
            ]
          },
          "metadata": {},
          "execution_count": 7
        }
      ]
    },
    {
      "cell_type": "code",
      "source": [
        "tensor_3d[:1,:1,:1]"
      ],
      "metadata": {
        "colab": {
          "base_uri": "https://localhost:8080/"
        },
        "id": "uxnGvv_tZeaY",
        "outputId": "79afabb0-eb8f-4b1c-f327-112a616c7440"
      },
      "execution_count": 9,
      "outputs": [
        {
          "output_type": "execute_result",
          "data": {
            "text/plain": [
              "<tf.Tensor: shape=(1, 1, 1), dtype=int32, numpy=array([[[6]]], dtype=int32)>"
            ]
          },
          "metadata": {},
          "execution_count": 9
        }
      ]
    },
    {
      "cell_type": "code",
      "source": [
        "tensor_3d[-1,-1,-1]"
      ],
      "metadata": {
        "colab": {
          "base_uri": "https://localhost:8080/"
        },
        "id": "mnX-kZ0RaiXE",
        "outputId": "aa00b3e7-ace0-4534-9b18-ef3af5e2aee3"
      },
      "execution_count": 10,
      "outputs": [
        {
          "output_type": "execute_result",
          "data": {
            "text/plain": [
              "<tf.Tensor: shape=(), dtype=int32, numpy=17>"
            ]
          },
          "metadata": {},
          "execution_count": 10
        }
      ]
    },
    {
      "cell_type": "code",
      "source": [
        "tensor_3d[-1,1:,1:-1]"
      ],
      "metadata": {
        "colab": {
          "base_uri": "https://localhost:8080/"
        },
        "id": "O_l4CT3Vcne0",
        "outputId": "42c4cba8-4237-4816-9b75-23095a1789ff"
      },
      "execution_count": 16,
      "outputs": [
        {
          "output_type": "execute_result",
          "data": {
            "text/plain": [
              "<tf.Tensor: shape=(2, 2), dtype=int32, numpy=\n",
              "array([[ 9, 18],\n",
              "       [ 9,  6]], dtype=int32)>"
            ]
          },
          "metadata": {},
          "execution_count": 16
        }
      ]
    },
    {
      "cell_type": "code",
      "source": [
        "tensor_3d[:1] # It includes only the first slice of the original tensor"
      ],
      "metadata": {
        "colab": {
          "base_uri": "https://localhost:8080/"
        },
        "id": "PVcqsXIoc5Ml",
        "outputId": "6e603988-44de-4ff3-da89-085dc300882d"
      },
      "execution_count": 18,
      "outputs": [
        {
          "output_type": "execute_result",
          "data": {
            "text/plain": [
              "<tf.Tensor: shape=(1, 3, 4), dtype=int32, numpy=\n",
              "array([[[ 6,  1, 11,  7],\n",
              "        [ 2,  7, 11,  6],\n",
              "        [ 0, 13, 15,  2]]], dtype=int32)>"
            ]
          },
          "metadata": {},
          "execution_count": 18
        }
      ]
    },
    {
      "cell_type": "code",
      "source": [
        "tensor_3d[:1,1:,2:] # [:] this means all rows and columns in a Tensor"
      ],
      "metadata": {
        "colab": {
          "base_uri": "https://localhost:8080/"
        },
        "id": "KyJAcBWHds0q",
        "outputId": "9129480e-9f43-41cf-c676-0afb3fce6aef"
      },
      "execution_count": 19,
      "outputs": [
        {
          "output_type": "execute_result",
          "data": {
            "text/plain": [
              "<tf.Tensor: shape=(1, 2, 2), dtype=int32, numpy=\n",
              "array([[[11,  6],\n",
              "        [15,  2]]], dtype=int32)>"
            ]
          },
          "metadata": {},
          "execution_count": 19
        }
      ]
    },
    {
      "cell_type": "code",
      "source": [
        "tensor_3d[-1,:2,:2]"
      ],
      "metadata": {
        "colab": {
          "base_uri": "https://localhost:8080/"
        },
        "id": "nK7-VQNZeLz6",
        "outputId": "e022add2-d075-4c70-c103-913dae569284"
      },
      "execution_count": 22,
      "outputs": [
        {
          "output_type": "execute_result",
          "data": {
            "text/plain": [
              "<tf.Tensor: shape=(2, 2), dtype=int32, numpy=\n",
              "array([[ 8, 13],\n",
              "       [ 3,  9]], dtype=int32)>"
            ]
          },
          "metadata": {},
          "execution_count": 22
        }
      ]
    },
    {
      "cell_type": "code",
      "source": [
        "tensor_3d[:-1]"
      ],
      "metadata": {
        "colab": {
          "base_uri": "https://localhost:8080/"
        },
        "id": "STAXGeK4edFD",
        "outputId": "48fb3db4-c43d-47bc-9cba-7a22e8f15c34"
      },
      "execution_count": 25,
      "outputs": [
        {
          "output_type": "execute_result",
          "data": {
            "text/plain": [
              "<tf.Tensor: shape=(1, 3, 4), dtype=int32, numpy=\n",
              "array([[[ 6,  1, 11,  7],\n",
              "        [ 2,  7, 11,  6],\n",
              "        [ 0, 13, 15,  2]]], dtype=int32)>"
            ]
          },
          "metadata": {},
          "execution_count": 25
        }
      ]
    },
    {
      "cell_type": "markdown",
      "source": [
        "### tensor[...,newaxis] ---> To add an extra dimension to a Tensor"
      ],
      "metadata": {
        "id": "1WZMZxejiDSw"
      }
    },
    {
      "cell_type": "code",
      "source": [
        "# adding an extra dimension to a Tensor\n",
        "\n",
        "tensor_4d = tensor_3d[...,tf.newaxis]\n",
        "tensor_4d"
      ],
      "metadata": {
        "colab": {
          "base_uri": "https://localhost:8080/"
        },
        "id": "QU0u225efSyw",
        "outputId": "89dc342d-ada5-43b3-8db4-63e7f674d8e5"
      },
      "execution_count": 28,
      "outputs": [
        {
          "output_type": "execute_result",
          "data": {
            "text/plain": [
              "<tf.Tensor: shape=(2, 3, 4, 1), dtype=int32, numpy=\n",
              "array([[[[ 6],\n",
              "         [ 1],\n",
              "         [11],\n",
              "         [ 7]],\n",
              "\n",
              "        [[ 2],\n",
              "         [ 7],\n",
              "         [11],\n",
              "         [ 6]],\n",
              "\n",
              "        [[ 0],\n",
              "         [13],\n",
              "         [15],\n",
              "         [ 2]]],\n",
              "\n",
              "\n",
              "       [[[ 8],\n",
              "         [13],\n",
              "         [ 6],\n",
              "         [ 7]],\n",
              "\n",
              "        [[ 3],\n",
              "         [ 9],\n",
              "         [18],\n",
              "         [ 9]],\n",
              "\n",
              "        [[14],\n",
              "         [ 9],\n",
              "         [ 6],\n",
              "         [17]]]], dtype=int32)>"
            ]
          },
          "metadata": {},
          "execution_count": 28
        }
      ]
    },
    {
      "cell_type": "code",
      "source": [
        "tensor_4d[0,2,-1]"
      ],
      "metadata": {
        "colab": {
          "base_uri": "https://localhost:8080/"
        },
        "id": "zsnTRM3nf8oL",
        "outputId": "7da112ce-36c4-4b47-9885-fa86fce02903"
      },
      "execution_count": 32,
      "outputs": [
        {
          "output_type": "execute_result",
          "data": {
            "text/plain": [
              "<tf.Tensor: shape=(1,), dtype=int32, numpy=array([2], dtype=int32)>"
            ]
          },
          "metadata": {},
          "execution_count": 32
        }
      ]
    },
    {
      "cell_type": "markdown",
      "source": [
        "### Alternate to newaxis ---> tf.expand_dims(input, axis= D)"
      ],
      "metadata": {
        "id": "sozozB_TiYgu"
      }
    },
    {
      "cell_type": "code",
      "source": [
        "tensor_4d = tf.expand_dims(tensor_3d,axis =1)"
      ],
      "metadata": {
        "id": "D26rnTQug8yS"
      },
      "execution_count": 34,
      "outputs": []
    },
    {
      "cell_type": "code",
      "source": [
        "tensor_4d"
      ],
      "metadata": {
        "colab": {
          "base_uri": "https://localhost:8080/"
        },
        "id": "Zdmd4pbli2TH",
        "outputId": "18d029c6-5948-4d28-9439-5b39a16abebe"
      },
      "execution_count": 35,
      "outputs": [
        {
          "output_type": "execute_result",
          "data": {
            "text/plain": [
              "<tf.Tensor: shape=(2, 1, 3, 4), dtype=int32, numpy=\n",
              "array([[[[ 6,  1, 11,  7],\n",
              "         [ 2,  7, 11,  6],\n",
              "         [ 0, 13, 15,  2]]],\n",
              "\n",
              "\n",
              "       [[[ 8, 13,  6,  7],\n",
              "         [ 3,  9, 18,  9],\n",
              "         [14,  9,  6, 17]]]], dtype=int32)>"
            ]
          },
          "metadata": {},
          "execution_count": 35
        }
      ]
    },
    {
      "cell_type": "code",
      "source": [],
      "metadata": {
        "id": "TIZY3Akvi4Vm"
      },
      "execution_count": null,
      "outputs": []
    }
  ]
}