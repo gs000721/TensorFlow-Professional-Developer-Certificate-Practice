{
  "nbformat": 4,
  "nbformat_minor": 0,
  "metadata": {
    "colab": {
      "provenance": []
    },
    "kernelspec": {
      "name": "python3",
      "display_name": "Python 3"
    },
    "language_info": {
      "name": "python"
    }
  },
  "cells": [
    {
      "cell_type": "code",
      "source": [
        "import tensorflow as tf"
      ],
      "metadata": {
        "id": "yB8gt-ePZMnM"
      },
      "execution_count": 36,
      "outputs": []
    },
    {
      "cell_type": "markdown",
      "source": [
        "### Basic Arithmetic Operations on Tensors\n",
        "\n",
        "\n",
        "\n"
      ],
      "metadata": {
        "id": "xOBRbG4lY-VS"
      }
    },
    {
      "cell_type": "code",
      "source": [
        "# create a random 3D tensor\n",
        "\n",
        "tensor_3d = tf.random.Generator.from_seed(45)\n",
        "tensor_3d = tensor_3d.uniform(shape=(2,4,5),dtype=tf.int32,minval=1,maxval=30)\n",
        "tensor_3d"
      ],
      "metadata": {
        "colab": {
          "base_uri": "https://localhost:8080/"
        },
        "id": "fMwaJmxtmBbw",
        "outputId": "cb7d49a6-450f-405b-e7f9-99ca8cfbb305"
      },
      "execution_count": 40,
      "outputs": [
        {
          "output_type": "execute_result",
          "data": {
            "text/plain": [
              "<tf.Tensor: shape=(2, 4, 5), dtype=int32, numpy=\n",
              "array([[[16, 16, 23,  9, 25],\n",
              "        [23, 20, 13, 12, 12],\n",
              "        [23, 15, 12, 10, 13],\n",
              "        [22, 24,  5,  7, 10]],\n",
              "\n",
              "       [[19,  1, 28,  3,  3],\n",
              "        [ 8, 29,  6, 21, 26],\n",
              "        [22, 11, 11, 21,  5],\n",
              "        [ 8,  8, 11,  7,  8]]], dtype=int32)>"
            ]
          },
          "metadata": {},
          "execution_count": 40
        }
      ]
    },
    {
      "cell_type": "markdown",
      "source": [
        "**Quick Note:** Basic Operations performed on a Tensor didn't have inplace = true effect. If you wanna save the changes, you might have to assign the result to a variable."
      ],
      "metadata": {
        "id": "iGk_oBWinvjU"
      }
    },
    {
      "cell_type": "code",
      "source": [
        "# Adding numbers to a Tensor\n",
        "\n",
        "tensor_3d + 1"
      ],
      "metadata": {
        "colab": {
          "base_uri": "https://localhost:8080/"
        },
        "id": "yuli624qk0_S",
        "outputId": "fa8832c2-f350-44a9-f4ec-f485a2d6975b"
      },
      "execution_count": 44,
      "outputs": [
        {
          "output_type": "execute_result",
          "data": {
            "text/plain": [
              "<tf.Tensor: shape=(2, 4, 5), dtype=int32, numpy=\n",
              "array([[[17, 17, 24, 10, 26],\n",
              "        [24, 21, 14, 13, 13],\n",
              "        [24, 16, 13, 11, 14],\n",
              "        [23, 25,  6,  8, 11]],\n",
              "\n",
              "       [[20,  2, 29,  4,  4],\n",
              "        [ 9, 30,  7, 22, 27],\n",
              "        [23, 12, 12, 22,  6],\n",
              "        [ 9,  9, 12,  8,  9]]], dtype=int32)>"
            ]
          },
          "metadata": {},
          "execution_count": 44
        }
      ]
    },
    {
      "cell_type": "code",
      "source": [
        "# Subtracting numbers from a Tensor\n",
        "\n",
        "tensor_3d - 1"
      ],
      "metadata": {
        "colab": {
          "base_uri": "https://localhost:8080/"
        },
        "id": "U0eMmTLCnTK_",
        "outputId": "e55853bd-cd68-4f63-e80e-67c3afe1e13f"
      },
      "execution_count": 46,
      "outputs": [
        {
          "output_type": "execute_result",
          "data": {
            "text/plain": [
              "<tf.Tensor: shape=(2, 4, 5), dtype=int32, numpy=\n",
              "array([[[15, 15, 22,  8, 24],\n",
              "        [22, 19, 12, 11, 11],\n",
              "        [22, 14, 11,  9, 12],\n",
              "        [21, 23,  4,  6,  9]],\n",
              "\n",
              "       [[18,  0, 27,  2,  2],\n",
              "        [ 7, 28,  5, 20, 25],\n",
              "        [21, 10, 10, 20,  4],\n",
              "        [ 7,  7, 10,  6,  7]]], dtype=int32)>"
            ]
          },
          "metadata": {},
          "execution_count": 46
        }
      ]
    },
    {
      "cell_type": "code",
      "source": [
        "# Multiplying numbers to a Tensor\n",
        "\n",
        "tensor_3d * 0"
      ],
      "metadata": {
        "colab": {
          "base_uri": "https://localhost:8080/"
        },
        "id": "DI2IpWDXnTE6",
        "outputId": "77def5f9-f9b6-41e0-944b-362273a0bade"
      },
      "execution_count": 47,
      "outputs": [
        {
          "output_type": "execute_result",
          "data": {
            "text/plain": [
              "<tf.Tensor: shape=(2, 4, 5), dtype=int32, numpy=\n",
              "array([[[0, 0, 0, 0, 0],\n",
              "        [0, 0, 0, 0, 0],\n",
              "        [0, 0, 0, 0, 0],\n",
              "        [0, 0, 0, 0, 0]],\n",
              "\n",
              "       [[0, 0, 0, 0, 0],\n",
              "        [0, 0, 0, 0, 0],\n",
              "        [0, 0, 0, 0, 0],\n",
              "        [0, 0, 0, 0, 0]]], dtype=int32)>"
            ]
          },
          "metadata": {},
          "execution_count": 47
        }
      ]
    },
    {
      "cell_type": "code",
      "source": [
        "# Dividing numbers from a Tensor\n",
        "\n",
        "tensor_3d / 2"
      ],
      "metadata": {
        "colab": {
          "base_uri": "https://localhost:8080/"
        },
        "id": "H37P8dLInS95",
        "outputId": "0dc67d1c-5ef7-405b-f131-28d536ef1d4c"
      },
      "execution_count": 48,
      "outputs": [
        {
          "output_type": "execute_result",
          "data": {
            "text/plain": [
              "<tf.Tensor: shape=(2, 4, 5), dtype=float64, numpy=\n",
              "array([[[ 8. ,  8. , 11.5,  4.5, 12.5],\n",
              "        [11.5, 10. ,  6.5,  6. ,  6. ],\n",
              "        [11.5,  7.5,  6. ,  5. ,  6.5],\n",
              "        [11. , 12. ,  2.5,  3.5,  5. ]],\n",
              "\n",
              "       [[ 9.5,  0.5, 14. ,  1.5,  1.5],\n",
              "        [ 4. , 14.5,  3. , 10.5, 13. ],\n",
              "        [11. ,  5.5,  5.5, 10.5,  2.5],\n",
              "        [ 4. ,  4. ,  5.5,  3.5,  4. ]]])>"
            ]
          },
          "metadata": {},
          "execution_count": 48
        }
      ]
    },
    {
      "cell_type": "markdown",
      "source": [
        "### tf.math functions"
      ],
      "metadata": {
        "id": "8rvO_uMzoZB1"
      }
    },
    {
      "cell_type": "code",
      "source": [
        "# Multiplying numbers to a Tensor using tf.math.multiply()\n",
        "\n",
        "tf.math.multiply(tensor_3d, 2)"
      ],
      "metadata": {
        "colab": {
          "base_uri": "https://localhost:8080/"
        },
        "id": "aCkkr2bpnS7D",
        "outputId": "121716dd-850f-4e60-ff9a-a45db3c00f1e"
      },
      "execution_count": 50,
      "outputs": [
        {
          "output_type": "execute_result",
          "data": {
            "text/plain": [
              "<tf.Tensor: shape=(2, 4, 5), dtype=int32, numpy=\n",
              "array([[[32, 32, 46, 18, 50],\n",
              "        [46, 40, 26, 24, 24],\n",
              "        [46, 30, 24, 20, 26],\n",
              "        [44, 48, 10, 14, 20]],\n",
              "\n",
              "       [[38,  2, 56,  6,  6],\n",
              "        [16, 58, 12, 42, 52],\n",
              "        [44, 22, 22, 42, 10],\n",
              "        [16, 16, 22, 14, 16]]], dtype=int32)>"
            ]
          },
          "metadata": {},
          "execution_count": 50
        }
      ]
    },
    {
      "cell_type": "code",
      "source": [
        "# Adding numbers to a Tensor using tf.math.add()\n",
        "\n",
        "tf.math.add(tensor_3d, 2)"
      ],
      "metadata": {
        "colab": {
          "base_uri": "https://localhost:8080/"
        },
        "id": "Kp6yGlJwnS3P",
        "outputId": "37ff5496-acca-4a18-d223-5ba6019b167f"
      },
      "execution_count": 51,
      "outputs": [
        {
          "output_type": "execute_result",
          "data": {
            "text/plain": [
              "<tf.Tensor: shape=(2, 4, 5), dtype=int32, numpy=\n",
              "array([[[18, 18, 25, 11, 27],\n",
              "        [25, 22, 15, 14, 14],\n",
              "        [25, 17, 14, 12, 15],\n",
              "        [24, 26,  7,  9, 12]],\n",
              "\n",
              "       [[21,  3, 30,  5,  5],\n",
              "        [10, 31,  8, 23, 28],\n",
              "        [24, 13, 13, 23,  7],\n",
              "        [10, 10, 13,  9, 10]]], dtype=int32)>"
            ]
          },
          "metadata": {},
          "execution_count": 51
        }
      ]
    },
    {
      "cell_type": "code",
      "source": [
        "# Subtracting numbers from a Tensor using tf.math.subtract()\n",
        "\n",
        "tf.math.subtract(tensor_3d, 2)"
      ],
      "metadata": {
        "colab": {
          "base_uri": "https://localhost:8080/"
        },
        "id": "lmqeikvonSuQ",
        "outputId": "484e60e9-2d89-489c-f129-9705df82ed04"
      },
      "execution_count": 52,
      "outputs": [
        {
          "output_type": "execute_result",
          "data": {
            "text/plain": [
              "<tf.Tensor: shape=(2, 4, 5), dtype=int32, numpy=\n",
              "array([[[14, 14, 21,  7, 23],\n",
              "        [21, 18, 11, 10, 10],\n",
              "        [21, 13, 10,  8, 11],\n",
              "        [20, 22,  3,  5,  8]],\n",
              "\n",
              "       [[17, -1, 26,  1,  1],\n",
              "        [ 6, 27,  4, 19, 24],\n",
              "        [20,  9,  9, 19,  3],\n",
              "        [ 6,  6,  9,  5,  6]]], dtype=int32)>"
            ]
          },
          "metadata": {},
          "execution_count": 52
        }
      ]
    },
    {
      "cell_type": "code",
      "source": [
        "# Dividing numbers from a Tensor using tf.math.divide()\n",
        "\n",
        "tf.math.divide(tensor_3d, 2)"
      ],
      "metadata": {
        "colab": {
          "base_uri": "https://localhost:8080/"
        },
        "id": "kBfgxnpPnSee",
        "outputId": "6d350a7c-9d5b-4f3f-8493-c14095cb837e"
      },
      "execution_count": 53,
      "outputs": [
        {
          "output_type": "execute_result",
          "data": {
            "text/plain": [
              "<tf.Tensor: shape=(2, 4, 5), dtype=float64, numpy=\n",
              "array([[[ 8. ,  8. , 11.5,  4.5, 12.5],\n",
              "        [11.5, 10. ,  6.5,  6. ,  6. ],\n",
              "        [11.5,  7.5,  6. ,  5. ,  6.5],\n",
              "        [11. , 12. ,  2.5,  3.5,  5. ]],\n",
              "\n",
              "       [[ 9.5,  0.5, 14. ,  1.5,  1.5],\n",
              "        [ 4. , 14.5,  3. , 10.5, 13. ],\n",
              "        [11. ,  5.5,  5.5, 10.5,  2.5],\n",
              "        [ 4. ,  4. ,  5.5,  3.5,  4. ]]])>"
            ]
          },
          "metadata": {},
          "execution_count": 53
        }
      ]
    },
    {
      "cell_type": "markdown",
      "source": [
        "### Advanced tf.math functions"
      ],
      "metadata": {
        "id": "TzGCSAXEptuV"
      }
    },
    {
      "cell_type": "code",
      "source": [
        "# tf.math.pow: Computes the element-wise power of a tensor.\n",
        "\n",
        "tf.math.pow(tensor_3d,2)"
      ],
      "metadata": {
        "colab": {
          "base_uri": "https://localhost:8080/"
        },
        "id": "urn8buBypkAP",
        "outputId": "9bdff4bd-09f0-4d52-b8bb-424597e8b9be"
      },
      "execution_count": 55,
      "outputs": [
        {
          "output_type": "execute_result",
          "data": {
            "text/plain": [
              "<tf.Tensor: shape=(2, 4, 5), dtype=int32, numpy=\n",
              "array([[[256, 256, 529,  81, 625],\n",
              "        [529, 400, 169, 144, 144],\n",
              "        [529, 225, 144, 100, 169],\n",
              "        [484, 576,  25,  49, 100]],\n",
              "\n",
              "       [[361,   1, 784,   9,   9],\n",
              "        [ 64, 841,  36, 441, 676],\n",
              "        [484, 121, 121, 441,  25],\n",
              "        [ 64,  64, 121,  49,  64]]], dtype=int32)>"
            ]
          },
          "metadata": {},
          "execution_count": 55
        }
      ]
    },
    {
      "cell_type": "code",
      "source": [
        "# tf.math.reduce_mean: Computes the mean of all elements in a tensor.\n",
        "\n",
        "\n",
        "print(tf.math.reduce_mean(tensor_3d))\n",
        "print(tf.math.reduce_mean(tensor_3d).numpy())"
      ],
      "metadata": {
        "colab": {
          "base_uri": "https://localhost:8080/"
        },
        "id": "klKaGT3LqEC5",
        "outputId": "4ca6365c-51a2-4880-dab5-4bf232009b3b"
      },
      "execution_count": 59,
      "outputs": [
        {
          "output_type": "stream",
          "name": "stdout",
          "text": [
            "tf.Tensor(14, shape=(), dtype=int32)\n",
            "14\n"
          ]
        }
      ]
    },
    {
      "cell_type": "code",
      "source": [],
      "metadata": {
        "id": "lztPe1NYqSgu"
      },
      "execution_count": null,
      "outputs": []
    }
  ]
}