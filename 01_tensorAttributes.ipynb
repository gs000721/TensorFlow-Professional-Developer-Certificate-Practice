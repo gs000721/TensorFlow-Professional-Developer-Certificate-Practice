{
  "nbformat": 4,
  "nbformat_minor": 0,
  "metadata": {
    "colab": {
      "provenance": []
    },
    "kernelspec": {
      "name": "python3",
      "display_name": "Python 3"
    },
    "language_info": {
      "name": "python"
    }
  },
  "cells": [
    {
      "cell_type": "markdown",
      "source": [
        "### Getting information from Tensors\n",
        "\n",
        "Tensor Attributes\n",
        "\n",
        "\n",
        "\n",
        "* shape\n",
        "* ndim/rank\n",
        "* size\n",
        "* accessing elements inside a tensor\n"
      ],
      "metadata": {
        "id": "j8n6s9UpVEtL"
      }
    },
    {
      "cell_type": "code",
      "source": [
        "import tensorflow as tf\n",
        "import numpy as np\n",
        "\n",
        "print(tf.__version__)"
      ],
      "metadata": {
        "colab": {
          "base_uri": "https://localhost:8080/"
        },
        "id": "Mo88p_LhVtcN",
        "outputId": "b1021b46-b936-4b03-c38b-0d8d84d95adc"
      },
      "execution_count": 16,
      "outputs": [
        {
          "output_type": "stream",
          "name": "stdout",
          "text": [
            "2.12.0\n"
          ]
        }
      ]
    },
    {
      "cell_type": "code",
      "source": [
        "# create a 3D Tensor\n",
        "\n",
        "\n",
        "tensor_3d = tf.zeros(shape=(2,3,5))\n",
        "tensor_3d"
      ],
      "metadata": {
        "colab": {
          "base_uri": "https://localhost:8080/"
        },
        "id": "bpLyC2nKVI8y",
        "outputId": "8640625c-2ce4-4570-dd70-54a16b574b69"
      },
      "execution_count": 17,
      "outputs": [
        {
          "output_type": "execute_result",
          "data": {
            "text/plain": [
              "<tf.Tensor: shape=(2, 3, 5), dtype=float32, numpy=\n",
              "array([[[0., 0., 0., 0., 0.],\n",
              "        [0., 0., 0., 0., 0.],\n",
              "        [0., 0., 0., 0., 0.]],\n",
              "\n",
              "       [[0., 0., 0., 0., 0.],\n",
              "        [0., 0., 0., 0., 0.],\n",
              "        [0., 0., 0., 0., 0.]]], dtype=float32)>"
            ]
          },
          "metadata": {},
          "execution_count": 17
        }
      ]
    },
    {
      "cell_type": "markdown",
      "source": [
        "### 1. Shape of Tensor"
      ],
      "metadata": {
        "id": "TsqLKEZlV9Jf"
      }
    },
    {
      "cell_type": "code",
      "source": [
        "tensor_3d.shape"
      ],
      "metadata": {
        "colab": {
          "base_uri": "https://localhost:8080/"
        },
        "id": "bLi0s8q-V5pL",
        "outputId": "bf9bd3e5-f237-441c-dfdd-5f6394ca2b45"
      },
      "execution_count": 18,
      "outputs": [
        {
          "output_type": "execute_result",
          "data": {
            "text/plain": [
              "TensorShape([2, 3, 5])"
            ]
          },
          "metadata": {},
          "execution_count": 18
        }
      ]
    },
    {
      "cell_type": "markdown",
      "source": [
        "### 2. Rank of Tensor"
      ],
      "metadata": {
        "id": "n5TasKA1WEFL"
      }
    },
    {
      "cell_type": "code",
      "source": [
        "tensor_3d.ndim"
      ],
      "metadata": {
        "colab": {
          "base_uri": "https://localhost:8080/"
        },
        "id": "EJRBe2pcWBiv",
        "outputId": "0298d797-d2a1-4622-dbf5-3f639e51dd52"
      },
      "execution_count": 19,
      "outputs": [
        {
          "output_type": "execute_result",
          "data": {
            "text/plain": [
              "3"
            ]
          },
          "metadata": {},
          "execution_count": 19
        }
      ]
    },
    {
      "cell_type": "markdown",
      "source": [
        "### 3. Size of Tensor"
      ],
      "metadata": {
        "id": "0Oz7VysEWNHs"
      }
    },
    {
      "cell_type": "code",
      "source": [
        "tf.size(tensor_3d)\n"
      ],
      "metadata": {
        "colab": {
          "base_uri": "https://localhost:8080/"
        },
        "id": "IkMac6XyWL_B",
        "outputId": "a762af56-355e-4fbf-d911-5f4076a33288"
      },
      "execution_count": 20,
      "outputs": [
        {
          "output_type": "execute_result",
          "data": {
            "text/plain": [
              "<tf.Tensor: shape=(), dtype=int32, numpy=30>"
            ]
          },
          "metadata": {},
          "execution_count": 20
        }
      ]
    },
    {
      "cell_type": "code",
      "source": [
        "tf.size(tensor_3d).numpy() #converting into numpy for easy interpretation of result/output\n"
      ],
      "metadata": {
        "colab": {
          "base_uri": "https://localhost:8080/"
        },
        "id": "O-I3jWTGWVU6",
        "outputId": "99496878-c91d-4eae-fe7c-7ca40a090ba0"
      },
      "execution_count": 21,
      "outputs": [
        {
          "output_type": "execute_result",
          "data": {
            "text/plain": [
              "30"
            ]
          },
          "metadata": {},
          "execution_count": 21
        }
      ]
    },
    {
      "cell_type": "markdown",
      "source": [
        "### 4. Accessing Elements inside a Tensor"
      ],
      "metadata": {
        "id": "mkpNpWXgWrYK"
      }
    },
    {
      "cell_type": "code",
      "source": [
        "tensor_3d[-1][1][3]"
      ],
      "metadata": {
        "colab": {
          "base_uri": "https://localhost:8080/"
        },
        "id": "vrbhCK9-Wpvd",
        "outputId": "844b4abb-e1fd-4cf0-805d-c7a063902618"
      },
      "execution_count": 22,
      "outputs": [
        {
          "output_type": "execute_result",
          "data": {
            "text/plain": [
              "<tf.Tensor: shape=(), dtype=float32, numpy=0.0>"
            ]
          },
          "metadata": {},
          "execution_count": 22
        }
      ]
    },
    {
      "cell_type": "markdown",
      "source": [
        "### Making a pretty print statement with the above attributes"
      ],
      "metadata": {
        "id": "-jNPVKitXbn6"
      }
    },
    {
      "cell_type": "code",
      "source": [
        "\n",
        "print(\"Data type of every elements: \",tensor_3d.dtype)\n",
        "print(\"Number of Dimensions(Rank): \",tensor_3d.ndim)\n",
        "print(\"Shape of the Tensor: \",tensor_3d.shape)\n",
        "print(\"Elements along the 0 axis: \", tensor_3d.shape[0])\n",
        "print(\"Elements along the last axis: \", tensor_3d.shape[-1])\n",
        "print(\"Total no.of elements in the Tensor: \",tf.size(tensor_3d))\n",
        "print(\"Total no.of elements in the Tensor: \",tf.size(tensor_3d).numpy())"
      ],
      "metadata": {
        "colab": {
          "base_uri": "https://localhost:8080/"
        },
        "id": "VAuDJrMgW6K-",
        "outputId": "dd240224-a058-49dd-a6a9-c64a9237f204"
      },
      "execution_count": 25,
      "outputs": [
        {
          "output_type": "stream",
          "name": "stdout",
          "text": [
            "Data type of every elements:  <dtype: 'float32'>\n",
            "Number of Dimensions(Rank):  3\n",
            "Shape of the Tensor:  (2, 3, 5)\n",
            "Elements along the 0 axis:  2\n",
            "Elements along the last axis:  5\n",
            "Total no.of elements in the Tensor:  tf.Tensor(30, shape=(), dtype=int32)\n",
            "Total no.of elements in the Tensor:  30\n"
          ]
        }
      ]
    },
    {
      "cell_type": "code",
      "source": [],
      "metadata": {
        "id": "5OZN78jAYq4H"
      },
      "execution_count": null,
      "outputs": []
    }
  ]
}